{
  "nbformat": 4,
  "nbformat_minor": 0,
  "metadata": {
    "colab": {
      "provenance": [],
      "gpuType": "T4",
      "toc_visible": true
    },
    "kernelspec": {
      "name": "python3",
      "display_name": "Python 3"
    },
    "language_info": {
      "name": "python"
    },
    "accelerator": "GPU",
    "gpuClass": "standard"
  },
  "cells": [
    {
      "cell_type": "markdown",
      "source": [
        "# Introduction\n",
        "\n",
        "The objective of this exercise is to generate a **baseline model** for detecting toxic text. We will use the provided training dataset. \n",
        "\n",
        "Furthermore, we propose enhancing the performance of this model based on **toxic language features** that can be discovered from the dataset, both in form and content, which may improve the initial dataset we have and hence the model."
      ],
      "metadata": {
        "id": "z2IjUwMX58R5"
      }
    },
    {
      "cell_type": "markdown",
      "source": [
        "# Dataset analysis"
      ],
      "metadata": {
        "id": "lebmLkmycb25"
      }
    },
    {
      "cell_type": "markdown",
      "source": [
        "Install libraries"
      ],
      "metadata": {
        "id": "_r2zi17FeuFs"
      }
    },
    {
      "cell_type": "code",
      "source": [
        "!pip install datasets\n",
        "\n",
        "# I stick to this version due to a recent bug when loading one pre-trained \n",
        "# model from the hub\n",
        "!pip install transformers==4.28.0"
      ],
      "metadata": {
        "id": "dParjbGVCzaO"
      },
      "execution_count": null,
      "outputs": []
    },
    {
      "cell_type": "markdown",
      "source": [
        "### Text processing\n",
        "\n",
        "Text is processed to achieve greater homogeneity between Twitter and news sources. Random text strings such as HTML links are also removed."
      ],
      "metadata": {
        "id": "QuYkDp87eBKk"
      }
    },
    {
      "cell_type": "code",
      "execution_count": 27,
      "metadata": {
        "id": "liB2S0XL9JOF"
      },
      "outputs": [],
      "source": [
        "from datasets import Dataset\n",
        "import pandas as pd\n",
        "import re\n",
        "\n",
        "# Datasets are stored in my Github account\n",
        "train_df = pd.read_csv(\"https://raw.githubusercontent.com/jnferfer/toxic_language/main/toxicity_train_data.csv\", engine=\"python\")\n",
        "test_df = pd.read_csv(\"https://raw.githubusercontent.com/jnferfer/toxic_language/main/toxicity_test_data.csv\", engine=\"python\")\n",
        "\n",
        "\n",
        "def cleanse_text(text):\n",
        "\n",
        "    lines = [line for line in text.split(\"\\n\") if line \n",
        "             and not re.search(r\"^\\s+$\", line)]\n",
        "    lines = [re.sub(r\"\\s+\", \" \", line.strip()) for line in lines]\n",
        "\n",
        "    # Twitter html link removal\n",
        "    lines = [re.sub(r\"http\\S+\", \"http\", line) for line in lines]\n",
        "\n",
        "    # Transform to paragraph-style text\n",
        "    full_stop_lines = []\n",
        "    for line in lines:\n",
        "        if line[-1] not in [\".\", \"?\", \"!\", \":\", \";\", \"…\", \"-\", \"—\", \",\"]:\n",
        "            full_stop_lines.append(f\"{line}.\")\n",
        "        else:\n",
        "            full_stop_lines.append(line)\n",
        "    \n",
        "    return \" \".join(full_stop_lines)\n",
        "\n",
        "\n",
        "train_df[\"text\"] = train_df[\"text\"].apply(lambda text: cleanse_text(text))\n",
        "test_df[\"text\"] = test_df[\"text\"].apply(lambda text: cleanse_text(text))"
      ]
    },
    {
      "cell_type": "markdown",
      "source": [
        "Text has been transformed as follows:"
      ],
      "metadata": {
        "id": "RvJXbjQbpKoF"
      }
    },
    {
      "cell_type": "code",
      "source": [
        "sample_text = \"\"\"\n",
        "  Mañana nuestra candidata a la Xunta @Beatriz_Pino_ , estará acompañada de @Tonicanto1 y @GuillermoDiazCs en #SantiagodeCompostela #StopNacionalismo \n",
        "\n",
        " Alameda \n",
        "\n",
        "⏰ 12:30h\n",
        "\n",
        "  ¡Te esperamos!\n",
        "#MoitoQueGañar https://t.co/fbpFEv9aiu\n",
        "\"\"\"\n",
        "\n",
        "cleanse_text(sample_text)"
      ],
      "metadata": {
        "colab": {
          "base_uri": "https://localhost:8080/",
          "height": 53
        },
        "id": "HL52xz_CpNvG",
        "outputId": "a1f66504-b113-4eac-ed46-b2f622f16436"
      },
      "execution_count": 3,
      "outputs": [
        {
          "output_type": "execute_result",
          "data": {
            "text/plain": [
              "'Mañana nuestra candidata a la Xunta @Beatriz_Pino_ , estará acompañada de @Tonicanto1 y @GuillermoDiazCs en #SantiagodeCompostela #StopNacionalismo. Alameda. ⏰ 12:30h. ¡Te esperamos! #MoitoQueGañar http.'"
            ],
            "application/vnd.google.colaboratory.intrinsic+json": {
              "type": "string"
            }
          },
          "metadata": {},
          "execution_count": 3
        }
      ]
    },
    {
      "cell_type": "markdown",
      "source": [
        "### Content analysis\n",
        "\n",
        "I want to discover distinguishing features of toxic text compared to non-toxic text. If we can accurately describe what toxic language in this dataset entails, we will learn on its dominant features and determine if they are well represented in this dataset.\n",
        "\n",
        "To achieve this, we rely on pretrained models that predict the speaker's emotion, content, and text genre."
      ],
      "metadata": {
        "id": "Y2w3NMGheNQk"
      }
    },
    {
      "cell_type": "code",
      "source": [
        "from transformers import pipeline\n",
        "from tqdm import tqdm\n",
        "import torch\n",
        "\n",
        "tqdm.pandas()\n",
        "\n",
        "# Add emotion analysis\n",
        "\n",
        "emotion_model = \"daveni/twitter-xlm-roberta-emotion-es\"\n",
        "\n",
        "emotion_clf = pipeline(task=\"text-classification\", framework=\"pt\", \n",
        "                       model=emotion_model, tokenizer=emotion_model, \n",
        "                       device=torch.device(\"cuda:0\"))\n",
        "\n",
        "train_df[\"emotion\"] = train_df[\"text\"].progress_apply(\n",
        "    lambda text: emotion_clf(text)[0][\"label\"])\n",
        "test_df[\"emotion\"] = test_df[\"text\"].progress_apply(\n",
        "    lambda text: emotion_clf(text)[0][\"label\"])"
      ],
      "metadata": {
        "id": "5fcugnVkc5nk",
        "colab": {
          "base_uri": "https://localhost:8080/"
        },
        "outputId": "e1b35e6c-5e08-4a41-cdff-08e8731209a6"
      },
      "execution_count": null,
      "outputs": [
        {
          "output_type": "stream",
          "name": "stderr",
          "text": [
            "  0%|          | 9/11000 [00:00<02:04, 88.34it/s]/usr/local/lib/python3.10/dist-packages/transformers/pipelines/base.py:1070: UserWarning: You seem to be using the pipelines sequentially on GPU. In order to maximize efficiency please use a dataset\n",
            "  warnings.warn(\n",
            " 84%|████████▍ | 9264/11000 [01:55<00:18, 95.19it/s]"
          ]
        }
      ]
    },
    {
      "cell_type": "code",
      "source": [
        "# Add topic analysis, using a zero-shot classifier\n",
        "\n",
        "zero_shot_model = \"MoritzLaurer/mDeBERTa-v3-base-xnli-multilingual-nli-2mil7\"\n",
        "\n",
        "zero_shot_clf = pipeline(task=\"zero-shot-classification\", model=zero_shot_model, \n",
        "                         device=torch.device(\"cuda:0\"))\n",
        "\n",
        "# Sketch based on news classification and tweet classification schemes\n",
        "# i.e. Reuters topics and CardiffNLP Tweet topics.\n",
        "sketch_topics = ['accidentes domésticos, de tráfico, desastres naturales', \n",
        "                 'arte y cultura', 'celebridades', 'ciencia, tecnología', 'deportes', \n",
        "                 'economía', 'estilo de vida, bienestar, cuidados personales', \n",
        "                 'gastronomía', 'guerras o conflictos armados', 'hobbies', \n",
        "                 'moda y estilo', 'noticias curiosas', 'noticias de religión', \n",
        "                 'películas, series, entretenimiento', 'política', \n",
        "                 'relaciones afectivas', 'viajes de ocio', 'vida cotidiana', \n",
        "                 'videojuegos']\n",
        "\n",
        "train_df[\"topic\"] = train_df[\"text\"].progress_apply(\n",
        "    lambda text: zero_shot_clf(text, sketch_topics, multi_label=False)[\"labels\"][0])\n",
        "test_df[\"topic\"] = test_df[\"text\"].progress_apply(\n",
        "    lambda text: zero_shot_clf(text, sketch_topics, multi_label=False)[\"labels\"][0])"
      ],
      "metadata": {
        "id": "FXaPtgbjs9QF"
      },
      "execution_count": null,
      "outputs": []
    },
    {
      "cell_type": "code",
      "source": [
        "# Add genre description (opinion, instructions, news, promotion, etc.)\n",
        "\n",
        "genre_model = \"classla/xlm-roberta-base-multilingual-text-genre-classifier\"\n",
        "\n",
        "genre_clf = pipeline(task=\"text-classification\", framework=\"pt\", \n",
        "                       model=genre_model, tokenizer=genre_model, \n",
        "                       device=torch.device(\"cuda:0\"))\n",
        "\n",
        "train_df[\"genre\"] = train_df[\"text\"].progress_apply(\n",
        "    lambda text: genre_clf(text)[0][\"label\"])\n",
        "test_df[\"genre\"] = test_df[\"text\"].progress_apply(\n",
        "    lambda text: genre_clf(text)[0][\"label\"])"
      ],
      "metadata": {
        "id": "1aCne4qUs9la"
      },
      "execution_count": null,
      "outputs": []
    },
    {
      "cell_type": "markdown",
      "source": [
        "# Baseline model"
      ],
      "metadata": {
        "id": "5cIvHcU0eRgO"
      }
    },
    {
      "cell_type": "markdown",
      "source": [
        "This code generates a baseline version of the toxic text classifier, using the provided training dataset. I have adapted the code from the following guide: https://huggingface.co/blog/sentiment-analysis-python"
      ],
      "metadata": {
        "id": "gXlL7sApzGXT"
      }
    },
    {
      "cell_type": "code",
      "source": [
        "from transformers import AutoTokenizer\n",
        "from transformers import DataCollatorWithPadding\n",
        "from transformers import AutoModelForSequenceClassification\n",
        "from transformers import TrainingArguments, Trainer\n",
        "import numpy as np\n",
        "from datasets import load_metric\n",
        "from huggingface_hub import notebook_login\n",
        "\n",
        "notebook_login()\n",
        "\n",
        "# Transform dataframe format to 'datasets' library\n",
        "\n",
        "train_ds = Dataset.from_pandas(train_df[[\"text\", \"label\"]])\n",
        "test_ds = Dataset.from_pandas(test_df[[\"text\", \"label\"]])\n",
        "\n",
        "# Pre-trained base model that will be fine-tuned\n",
        "\n",
        "base_model = \"bert-base-multilingual-cased\"\n",
        "repo_name = \"toxic-lang\"\n",
        "\n",
        "# Tokenization\n",
        "\n",
        "def preprocess_function(examples):\n",
        "    return tokenizer(examples[\"text\"], truncation=True)\n",
        "\n",
        "tokenizer = AutoTokenizer.from_pretrained(base_model)\n",
        "tokenized_train = train_ds.map(preprocess_function, batched=True)\n",
        "tokenized_test = test_ds.map(preprocess_function, batched=True)\n",
        "\n",
        "# Training\n",
        "\n",
        "data_collator = DataCollatorWithPadding(tokenizer=tokenizer)\n",
        "\n",
        "id2label = {0: \"NOT_TOXIC\", 1: \"TOXIC\"}\n",
        "label2id = {\"NOT_TOXIC\": 0, \"TOXIC\": 1}\n",
        "\n",
        "model = AutoModelForSequenceClassification.from_pretrained(\n",
        "    base_model, id2label=id2label, label2id=label2id, num_labels=2)\n",
        "\n",
        "def compute_metrics(eval_pred):\n",
        "    load_accuracy = load_metric(\"accuracy\")\n",
        "    load_f1 = load_metric(\"f1\")\n",
        "    logits, labels = eval_pred\n",
        "    predictions = np.argmax(logits, axis=-1)\n",
        "    accuracy = load_accuracy.compute(predictions=predictions, references=labels)[\"accuracy\"]\n",
        "    f1 = load_f1.compute(predictions=predictions, references=labels)[\"f1\"]\n",
        "    return {\"accuracy\": accuracy, \"f1\": f1}\n",
        "\n",
        "training_args = TrainingArguments(\n",
        "    output_dir=repo_name,\n",
        "    learning_rate=2e-5,\n",
        "    per_device_train_batch_size=16,\n",
        "    per_device_eval_batch_size=16,\n",
        "    num_train_epochs=2,\n",
        "    weight_decay=0.01,\n",
        "    save_strategy=\"epoch\",\n",
        "    push_to_hub=True,\n",
        ")\n",
        "\n",
        "trainer = Trainer(\n",
        "    model=model,\n",
        "    args=training_args,\n",
        "    train_dataset=tokenized_train,\n",
        "    eval_dataset=tokenized_test,\n",
        "    tokenizer=tokenizer,\n",
        "    data_collator=data_collator,\n",
        "    compute_metrics=compute_metrics,\n",
        ")\n",
        "\n",
        "trainer.train()\n",
        "\n",
        "trainer.evaluate()\n",
        "\n",
        "trainer.push_to_hub()"
      ],
      "metadata": {
        "id": "9wnQvSALCntd"
      },
      "execution_count": null,
      "outputs": []
    },
    {
      "cell_type": "markdown",
      "source": [
        "# Performance analysis"
      ],
      "metadata": {
        "id": "U1ZZT8lA1LXg"
      }
    },
    {
      "cell_type": "markdown",
      "source": [
        "The model uploaded to the hub has an F1 metric of 0.62, with room for improvement. Next, we generate predictions for the test dataset and identify those that do not match the expected label.\n",
        "\n",
        "Additionally, we create a separate Excel file to verify the results firsthand, i.e. `test_df_with_emotion_topic_genre_ands_preds.xlsx`"
      ],
      "metadata": {
        "id": "yUbL3_BMLZZN"
      }
    },
    {
      "cell_type": "code",
      "source": [
        "# Load trained model from hub\n",
        "\n",
        "toxic_clf = pipeline(\"text-classification\", \n",
        "                     model=\"jnferfer/toxic-lang\", device=\"cuda:0\")\n",
        "\n",
        "# Add predictions, compare them against truth\n",
        "\n",
        "test_df[\"preds\"] = test_df.progress_apply(\n",
        "    lambda row: toxic_clf(row[\"text\"])[0][\"label\"], axis=1)\n",
        "\n",
        "def eval_prediction(row):\n",
        "  if (row[\"label\"] == 0 and row[\"preds\"] == \"NOT_TOXIC\") or (row[\"label\"] == 1 \n",
        "                                                            and row[\"preds\"] == \"TOXIC\"): \n",
        "    return \"Pass\"\n",
        "  return \"Fail\"\n",
        "\n",
        "test_df[\"eval\"] = test_df.apply(lambda row: eval_prediction(row), axis=1)\n",
        "\n",
        "# Write Excel file for manual evaluation\n",
        "\n",
        "test_df.to_excel(\"test_df_with_emotion_topic_genre_ands_preds.xlsx\", index=False)"
      ],
      "metadata": {
        "id": "KgCkwXSdBMVS",
        "colab": {
          "base_uri": "https://localhost:8080/"
        },
        "outputId": "dac1b73a-41ef-4f33-a79c-c6f7dad86758"
      },
      "execution_count": 13,
      "outputs": [
        {
          "output_type": "stream",
          "name": "stderr",
          "text": [
            "  0%|          | 8/5000 [00:00<01:10, 70.32it/s]/usr/local/lib/python3.10/dist-packages/transformers/pipelines/base.py:1070: UserWarning: You seem to be using the pipelines sequentially on GPU. In order to maximize efficiency please use a dataset\n",
            "  warnings.warn(\n",
            "100%|██████████| 5000/5000 [01:14<00:00, 66.87it/s]\n"
          ]
        }
      ]
    },
    {
      "cell_type": "markdown",
      "source": [
        "The pretrained models (emotion, topic, and genre) we have used to describe features of toxic language can provide us with insights into the model's challenges. Regarding the source, we observe a proportion between text examples from news and Twitter."
      ],
      "metadata": {
        "id": "7CVwViiuMK4j"
      }
    },
    {
      "cell_type": "code",
      "source": [
        "test_df[\"origin\"].value_counts(ascending=True).plot.barh()"
      ],
      "metadata": {
        "colab": {
          "base_uri": "https://localhost:8080/",
          "height": 448
        },
        "id": "deEr4xMKE2UL",
        "outputId": "b26cbe60-a4b7-4fdc-c080-0b10295a0e66"
      },
      "execution_count": 22,
      "outputs": [
        {
          "output_type": "execute_result",
          "data": {
            "text/plain": [
              "<Axes: >"
            ]
          },
          "metadata": {},
          "execution_count": 22
        },
        {
          "output_type": "display_data",
          "data": {
            "text/plain": [
              "<Figure size 640x480 with 1 Axes>"
            ],
            "image/png": "[encoded data removed]"
          },
          "metadata": {}
        }
      ]
    },
    {
      "cell_type": "markdown",
      "source": [
        "However, the failures are concentrated on Twitter, leading us to question what characteristics those Twitter texts may have that lead to errors."
      ],
      "metadata": {
        "id": "jCuRSn03NsEG"
      }
    },
    {
      "cell_type": "code",
      "source": [
        "test_df[test_df[\"eval\"] == \"Fail\"][\"origin\"].value_counts(ascending=True).plot.barh()"
      ],
      "metadata": {
        "colab": {
          "base_uri": "https://localhost:8080/",
          "height": 448
        },
        "id": "01Jp59MdFeyG",
        "outputId": "2f9a3ce1-65d3-4e92-fff8-6fe9ad992f76"
      },
      "execution_count": 15,
      "outputs": [
        {
          "output_type": "execute_result",
          "data": {
            "text/plain": [
              "<Axes: >"
            ]
          },
          "metadata": {},
          "execution_count": 15
        },
        {
          "output_type": "display_data",
          "data": {
            "text/plain": [
              "<Figure size 640x480 with 1 Axes>"
            ],
            "image/png": "[encoded data removed]"
          },
          "metadata": {}
        }
      ]
    },
    {
      "cell_type": "markdown",
      "source": [
        "As we can see in the next graph, Twitter naturally contains a substantial amount of argumentative content. However, we come across several flaws on Twitter where texts of news genre are mistakenly presented as toxic content.\n",
        "\n",
        "> The following example of news genre was predicted as `TOXIC`: `Castells no condena la agresión a universitarios catalanes pero pacta con ERC combatir el acoso`\n",
        "\n",
        "> Similarly, argumentative text (opinions) poses a challenge for our model when the expression of opinion is subtle and deviates from the more conventional forms in the training dataset (first-person verbs, insults, etc.). Those tweets were labeled as `TOXIC`, too: `Desde 2008 no había 20 millones de personas ocupadas. La raya azul es el destrozo de país que fue la receta neoliberal de la \"austeridad\" aplicada por el bipartidismo` or `Antes que Greta que vuelva la peseta`"
      ],
      "metadata": {
        "id": "MVuI_RjGPdxr"
      }
    },
    {
      "cell_type": "code",
      "source": [
        "test_df[(test_df[\"eval\"] == \"Fail\") & (test_df[\"origin\"] == \"twitter\")][\"genre\"].value_counts(ascending=True).plot.barh()"
      ],
      "metadata": {
        "colab": {
          "base_uri": "https://localhost:8080/",
          "height": 448
        },
        "id": "t7nvEnHYF6rD",
        "outputId": "3367c18a-6acd-49b5-fd39-bc797cd0873a"
      },
      "execution_count": 25,
      "outputs": [
        {
          "output_type": "execute_result",
          "data": {
            "text/plain": [
              "<Axes: >"
            ]
          },
          "metadata": {},
          "execution_count": 25
        },
        {
          "output_type": "display_data",
          "data": {
            "text/plain": [
              "<Figure size 640x480 with 1 Axes>"
            ],
            "image/png": "[encoded data removed]"
          },
          "metadata": {}
        }
      ]
    },
    {
      "cell_type": "markdown",
      "source": [
        "In the subset of failures, the theme of politics stands out. This is expected since the original dataset mostly comprises text from the political domain, which commonly contains a higher amount of toxic content."
      ],
      "metadata": {
        "id": "N42rwjpIVzYJ"
      }
    },
    {
      "cell_type": "code",
      "source": [
        "test_df[test_df[\"eval\"] == \"Fail\"][\"topic\"].value_counts(ascending=True).plot.barh()"
      ],
      "metadata": {
        "colab": {
          "base_uri": "https://localhost:8080/",
          "height": 448
        },
        "id": "3jV0ZmPfGKhz",
        "outputId": "6d76d8db-4c26-4b74-de97-469954c61d62"
      },
      "execution_count": 18,
      "outputs": [
        {
          "output_type": "execute_result",
          "data": {
            "text/plain": [
              "<Axes: >"
            ]
          },
          "metadata": {},
          "execution_count": 18
        },
        {
          "output_type": "display_data",
          "data": {
            "text/plain": [
              "<Figure size 640x480 with 1 Axes>"
            ],
            "image/png": "[encoded data removed]"
          },
          "metadata": {}
        }
      ]
    },
    {
      "cell_type": "markdown",
      "source": [
        "Regarding emotions, `others` is the category that accumulates the most errors. In the model we have used, it is assigned to indicate neutrality. When examining the errors of the `TOXIC` label, this neutral category poses the challenge of deviating from more conventional emotions within toxicity, such as anger or disgust, towards subtler expressions (i.e. `La casta política se ha cargado todo y amenaza con dejar esto como una tierra baldía` or `El PP llama \"comunismo\" a la Constitución española`)"
      ],
      "metadata": {
        "id": "6Hulq0nDXzkC"
      }
    },
    {
      "cell_type": "code",
      "source": [
        "test_df[(test_df[\"eval\"] == \"Fail\") & (test_df[\"label\"] == 1)][\"emotion\"].value_counts(ascending=True).plot.barh()"
      ],
      "metadata": {
        "colab": {
          "base_uri": "https://localhost:8080/",
          "height": 448
        },
        "id": "fWk4BcEPGOXx",
        "outputId": "4e0b4b16-dc75-4db0-dded-3013485a5acf"
      },
      "execution_count": 26,
      "outputs": [
        {
          "output_type": "execute_result",
          "data": {
            "text/plain": [
              "<Axes: >"
            ]
          },
          "metadata": {},
          "execution_count": 26
        },
        {
          "output_type": "display_data",
          "data": {
            "text/plain": [
              "<Figure size 640x480 with 1 Axes>"
            ],
            "image/png": "[encoded data removed]"
          },
          "metadata": {}
        }
      ]
    },
    {
      "cell_type": "markdown",
      "source": [
        "### Improvements\n",
        "\n",
        "In conclusion, we propose as a work strategy an improvement of the model focused on **expanding our original dataset**, towards the point points of toxicity detection, leveraging valuable clues from observed features in toxic text. Specifically, for the cases where the model fails, these features include:\n",
        "\n",
        "*   Tweets containing news.\n",
        "*   Unconventional forms of expressing opinion to convey toxicity (e.g., irony, sarcasm, double meanings).\n",
        "*   Neutral emotions used to express toxicity, where the emphasis lies more on rhetorical figures than the expressiveness of what is being said, as in `El PP llama \"comunismo\" a la Constitución española`.\n",
        "\n",
        "Using some of these previous models, we can work with **external resources** to locate these combinations of features. For instance, we can analyze political tweets or news datasets that express opinions and contain neutral emotions, where we could more easily identify sarcasm or irony that conveys toxicity. Similarly, we could employ **generative models** (GPT-x) to generate prompts for creating datasets with phrases similar to those that highlight the failures of our model.\n",
        "\n"
      ],
      "metadata": {
        "id": "7HmXVhVYYS2z"
      }
    }
  ]
}